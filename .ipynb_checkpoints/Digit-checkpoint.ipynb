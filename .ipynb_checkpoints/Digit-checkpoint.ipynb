{
 "cells": [
  {
   "cell_type": "code",
   "execution_count": 1,
   "metadata": {},
   "outputs": [
    {
     "name": "stderr",
     "output_type": "stream",
     "text": [
      "/home/mzl/anaconda3/lib/python3.6/site-packages/h5py/__init__.py:36: FutureWarning: Conversion of the second argument of issubdtype from `float` to `np.floating` is deprecated. In future, it will be treated as `np.float64 == np.dtype(float).type`.\n",
      "  from ._conv import register_converters as _register_converters\n",
      "Using TensorFlow backend.\n"
     ]
    }
   ],
   "source": [
    "import pandas as pd\n",
    "import numpy as np\n",
    "import matplotlib.pyplot as plt\n",
    "import matplotlib.image as mpimg\n",
    "import seaborn as sns\n",
    "%matplotlib inline\n",
    "\n",
    "np.random.seed(2)\n",
    "\n",
    "from sklearn.model_selection import train_test_split\n",
    "from sklearn.metrics import confusion_matrix\n",
    "import itertools\n",
    "\n",
    "from keras.utils.np_utils import to_categorical # convert to one-hot-encoding\n",
    "from keras.models import Sequential\n",
    "from keras.layers import Dense, Dropout, Flatten, Conv2D, MaxPool2D\n",
    "from keras.optimizers import RMSprop\n",
    "from keras.preprocessing.image import ImageDataGenerator\n",
    "from keras.callbacks import ReduceLROnPlateau\n",
    "\n",
    "\n",
    "sns.set(style='white', context='notebook', palette='deep')"
   ]
  },
  {
   "cell_type": "markdown",
   "metadata": {},
   "source": [
    "## 2. Data preparation（数据预处理）\n",
    "### 2.1 Load data"
   ]
  },
  {
   "cell_type": "code",
   "execution_count": 2,
   "metadata": {},
   "outputs": [],
   "source": [
    "# Load the data\n",
    "train = pd.read_csv(\"./input/train.csv\")\n",
    "test = pd.read_csv(\"./input/test.csv\")"
   ]
  },
  {
   "cell_type": "code",
   "execution_count": 3,
   "metadata": {},
   "outputs": [
    {
     "data": {
      "text/plain": [
       "1    4684\n",
       "7    4401\n",
       "3    4351\n",
       "9    4188\n",
       "2    4177\n",
       "6    4137\n",
       "0    4132\n",
       "4    4072\n",
       "8    4063\n",
       "5    3795\n",
       "Name: label, dtype: int64"
      ]
     },
     "execution_count": 3,
     "metadata": {},
     "output_type": "execute_result"
    },
    {
     "data": {
      "image/png": "[encoded data removed]",
      "text/plain": [
       "<matplotlib.figure.Figure at 0x7fc2fef248d0>"
      ]
     },
     "metadata": {},
     "output_type": "display_data"
    }
   ],
   "source": [
    "Y_train = train[\"label\"]\n",
    "\n",
    "# Drop 'label' column\n",
    "#drop函数默认删除行，列需要加 axis = 1\n",
    "X_train = train.drop(labels = [\"label\"],axis = 1) \n",
    "\n",
    "# free some space\n",
    "del train \n",
    "\n",
    "#绘条形图\n",
    "g = sns.countplot(Y_train)\n",
    "\n",
    "Y_train.value_counts()"
   ]
  },
  {
   "cell_type": "markdown",
   "metadata": {},
   "source": [
    "### 2.2 Check for null and missing values"
   ]
  },
  {
   "cell_type": "code",
   "execution_count": 4,
   "metadata": {},
   "outputs": [
    {
     "data": {
      "text/plain": [
       "count       784\n",
       "unique        1\n",
       "top       False\n",
       "freq        784\n",
       "dtype: object"
      ]
     },
     "execution_count": 4,
     "metadata": {},
     "output_type": "execute_result"
    }
   ],
   "source": [
    "# Check the data\n",
    "X_train.isnull().any().describe()"
   ]
  },
  {
   "cell_type": "code",
   "execution_count": 5,
   "metadata": {},
   "outputs": [
    {
     "data": {
      "text/plain": [
       "count       784\n",
       "unique        1\n",
       "top       False\n",
       "freq        784\n",
       "dtype: object"
      ]
     },
     "execution_count": 5,
     "metadata": {},
     "output_type": "execute_result"
    }
   ],
   "source": [
    "test.isnull().any().describe()"
   ]
  },
  {
   "cell_type": "markdown",
   "metadata": {},
   "source": [
    "### 2.4 Normalization(标准化)"
   ]
  },
  {
   "cell_type": "code",
   "execution_count": 6,
   "metadata": {},
   "outputs": [],
   "source": [
    "# Normalize the data\n",
    "X_train = X_train / 255.0\n",
    "test = test / 255.0"
   ]
  },
  {
   "cell_type": "markdown",
   "metadata": {},
   "source": [
    "### 2.3 Reshape"
   ]
  },
  {
   "cell_type": "code",
   "execution_count": 7,
   "metadata": {},
   "outputs": [],
   "source": [
    "# Reshape image in 3 dimensions (height = 28px, width = 28px , canal = 1)\n",
    "X_train = X_train.values.reshape(-1,28,28,1)\n",
    "test = test.values.reshape(-1,28,28,1)"
   ]
  },
  {
   "cell_type": "markdown",
   "metadata": {},
   "source": [
    "### 2.5 Label encoding"
   ]
  },
  {
   "cell_type": "code",
   "execution_count": 8,
   "metadata": {},
   "outputs": [],
   "source": [
    "# Encode labels to one hot vectors (ex : 2 -> [0,0,1,0,0,0,0,0,0,0])\n",
    "Y_train = to_categorical(Y_train, num_classes = 10)"
   ]
  },
  {
   "cell_type": "markdown",
   "metadata": {},
   "source": [
    "### 2.6 Split training and valdiation set(划分训练集和测试集)"
   ]
  },
  {
   "cell_type": "code",
   "execution_count": 9,
   "metadata": {},
   "outputs": [],
   "source": [
    "# Set the random seed\n",
    "random_seed = 2\n",
    "# Split the train and the validation set for the fitting\n",
    "X_train, X_val, Y_train, Y_val = train_test_split(X_train, Y_train, test_size = 0.1, random_state=random_seed)"
   ]
  },
  {
   "cell_type": "code",
   "execution_count": 10,
   "metadata": {},
   "outputs": [
    {
     "data": {
      "image/png": "[encoded data removed]",
      "text/plain": [
       "<matplotlib.figure.Figure at 0x7fc2fef243c8>"
      ]
     },
     "metadata": {},
     "output_type": "display_data"
    }
   ],
   "source": [
    "# Some examples\n",
    "g = plt.imshow(X_train[1][:,:,0])"
   ]
  },
  {
   "cell_type": "markdown",
   "metadata": {},
   "source": [
    "## 3. CNN\n",
    "### 3.1 Define the model"
   ]
  },
  {
   "cell_type": "markdown",
   "metadata": {},
   "source": [
    "#### 3.1.1 conv：全职共享，稀疏连接\n",
    "#### 3.1.2 pool：降低计算成本，一定程度上降低过拟合\n",
    "#### 3.1.3 dropout： 以一定概率失活失活神经元节点，提高泛化和减少过拟合\n",
    "#### 3.1.4 relu： 激活函数，提供非线性网络\n",
    "#### 3.1.4 fc: 将学到的“分布式特征表示”映射到样本标记空间的作用。"
   ]
  },
  {
   "cell_type": "markdown",
   "metadata": {},
   "source": [
    "#### Set the CNN model \n",
    "#### my CNN architechture is In -> [[Conv2D->relu]*2 -> MaxPool2D -> Dropout]*2 -> Flatten -> Dense -> Dropout -> Out"
   ]
  },
  {
   "cell_type": "code",
   "execution_count": 11,
   "metadata": {},
   "outputs": [],
   "source": [
    "model = Sequential()\n",
    "\n",
    "model.add(Conv2D(filters = 32, kernel_size = (5,5), padding = 'Same',\n",
    "                activation = 'relu', input_shape = (28,28,1)))\n",
    "model.add(Conv2D(filters = 32, kernel_size = (5,5), padding = 'Same',\n",
    "                activation = 'relu'))\n",
    "model.add(MaxPool2D(pool_size = (2,2)))\n",
    "model.add(Dropout(0.25))\n",
    "    \n",
    "model.add(Conv2D(filters = 64, kernel_size = (3,3), padding = 'Same',\n",
    "                activation = 'relu'))\n",
    "model.add(Conv2D(filters = 64, kernel_size = (3,3), padding = 'Same',\n",
    "                activation = 'relu'))\n",
    "model.add(MaxPool2D(pool_size = (2,2), strides = (2,2)))\n",
    "model.add(Dropout(0.25))\n",
    "    \n",
    "model.add(Flatten())\n",
    "model.add(Dense(256, activation = \"relu\"))\n",
    "model.add(Dropout(0.5))\n",
    "model.add(Dense(10,activation = \"softmax\"))"
   ]
  },
  {
   "cell_type": "markdown",
   "metadata": {},
   "source": [
    "### 3.2 Set the optimizer and annealer(设置优化器等)\n",
    "#### 设计一个得分函数：损失函数和优化算法"
   ]
  },
  {
   "cell_type": "code",
   "execution_count": 12,
   "metadata": {},
   "outputs": [],
   "source": [
    "# Define the optimizer\n",
    "# 建议使用优化器的默认参数 （除了学习率lr）\n",
    "optimizer = RMSprop(lr=0.001, rho=0.9, epsilon=1e-08, decay=0.0)"
   ]
  },
  {
   "cell_type": "code",
   "execution_count": 13,
   "metadata": {},
   "outputs": [],
   "source": [
    "# Compile the model\n",
    "model.compile(optimizer = optimizer , loss = \"categorical_crossentropy\", metrics=[\"accuracy\"])"
   ]
  },
  {
   "cell_type": "markdown",
   "metadata": {},
   "source": [
    "#### 使用 LR 衰减学习率"
   ]
  },
  {
   "cell_type": "code",
   "execution_count": 14,
   "metadata": {},
   "outputs": [],
   "source": [
    "# Set a learning rate annealer\n",
    "# 当标准评估已经停止时，降低学习速率\n",
    "#monitor: 被监测的数据\n",
    "#factor: 学习速率被降低的因数,新的学习速率 = 学习速率 * 因数\n",
    "#patience: 没有进步的训练轮数，在这之后训练速率会被降低\n",
    "#verbose: 整数。0：安静，1：更新信息\n",
    "#min_lr: 学习速率的下边界\n",
    "learning_rate_reduction = ReduceLROnPlateau(monitor='val_acc', \n",
    "                                            patience=3, \n",
    "                                            verbose=1, \n",
    "                                            factor=0.5, \n",
    "                                            min_lr=0.00001)"
   ]
  },
  {
   "cell_type": "code",
   "execution_count": 15,
   "metadata": {},
   "outputs": [],
   "source": [
    "epochs = 50 # Turn epochs to 30 to get 0.9967 accuracy\n",
    "batch_size = 86 #86\n",
    "# 128：0.9864"
   ]
  },
  {
   "cell_type": "markdown",
   "metadata": {},
   "source": [
    "## 3.3 Data augmentation\n",
    "#### 使用数据扩增方法避免过拟合\n",
    "#### 常见的数据扩增方法有：灰度,水平翻转、垂直翻转,随机裁剪,反转,旋转,等等\n",
    "#### .The improvement is important :\n",
    "\n",
    "#### .Without data augmentation i obtained an accuracy of 98.114%\n",
    "#### .With data augmentation i achieved 99.67% of accuracy"
   ]
  },
  {
   "cell_type": "code",
   "execution_count": 37,
   "metadata": {},
   "outputs": [],
   "source": [
    "# Without data augmentation i obtained an accuracy of 0.98114\n",
    "#history = model.fit(X_train, Y_train, batch_size = batch_size, epochs = epochs, \n",
    "#          validation_data = (X_val, Y_val), verbose = 2)"
   ]
  },
  {
   "cell_type": "code",
   "execution_count": 16,
   "metadata": {},
   "outputs": [],
   "source": [
    "# With data augmentation to prevent overfitting (accuracy 0.99286)\n",
    "\n",
    "datagen = ImageDataGenerator(\n",
    "        featurewise_center=False,  # set input mean to 0 over the dataset\n",
    "        samplewise_center=False,  # set each sample mean to 0\n",
    "        featurewise_std_normalization=False,  # divide inputs by std of the dataset\n",
    "        samplewise_std_normalization=False,  # divide each input by its std\n",
    "        zca_whitening=False,  # apply ZCA whitening\n",
    "        rotation_range=10,  # randomly rotate images in the range (degrees, 0 to 180)（随机旋转 10 度）\n",
    "        zoom_range = 0.1, # Randomly zoom image （随机放大 10%）\n",
    "        width_shift_range=0.1,  # randomly shift images horizontally (随机图像水平转移10%的宽度)\n",
    "        height_shift_range=0.1,  # randomly shift images vertically (随机图像垂直转移10%的高度)\n",
    "        horizontal_flip=False,  # randomly flip images\n",
    "        vertical_flip=False)  # randomly flip images\n",
    "\n",
    "datagen.fit(X_train)"
   ]
  },
  {
   "cell_type": "code",
   "execution_count": 17,
   "metadata": {},
   "outputs": [
    {
     "name": "stdout",
     "output_type": "stream",
     "text": [
      "Epoch 1/50\n",
      " - 41s - loss: 0.4086 - acc: 0.8696 - val_loss: 0.0712 - val_acc: 0.9774\n",
      "Epoch 2/50\n",
      " - 23s - loss: 0.1297 - acc: 0.9620 - val_loss: 0.0536 - val_acc: 0.9836\n",
      "Epoch 3/50\n",
      " - 23s - loss: 0.0987 - acc: 0.9694 - val_loss: 0.0393 - val_acc: 0.9893\n",
      "Epoch 4/50\n",
      " - 23s - loss: 0.0803 - acc: 0.9763 - val_loss: 0.0297 - val_acc: 0.9907\n",
      "Epoch 5/50\n",
      " - 23s - loss: 0.0752 - acc: 0.9775 - val_loss: 0.0282 - val_acc: 0.9914\n",
      "Epoch 6/50\n",
      " - 23s - loss: 0.0647 - acc: 0.9809 - val_loss: 0.0297 - val_acc: 0.9929\n",
      "Epoch 7/50\n",
      " - 23s - loss: 0.0625 - acc: 0.9815 - val_loss: 0.0257 - val_acc: 0.9924\n",
      "Epoch 8/50\n",
      " - 24s - loss: 0.0588 - acc: 0.9826 - val_loss: 0.0313 - val_acc: 0.9914\n",
      "Epoch 9/50\n",
      " - 24s - loss: 0.0615 - acc: 0.9828 - val_loss: 0.0220 - val_acc: 0.9945\n",
      "Epoch 10/50\n",
      " - 24s - loss: 0.0612 - acc: 0.9823 - val_loss: 0.0390 - val_acc: 0.9888\n",
      "Epoch 11/50\n",
      " - 25s - loss: 0.0591 - acc: 0.9837 - val_loss: 0.0269 - val_acc: 0.9919\n",
      "Epoch 12/50\n",
      " - 25s - loss: 0.0569 - acc: 0.9841 - val_loss: 0.0261 - val_acc: 0.9931\n",
      "Epoch 13/50\n",
      " - 23s - loss: 0.0590 - acc: 0.9836 - val_loss: 0.0281 - val_acc: 0.9902\n",
      "\n",
      "Epoch 00013: ReduceLROnPlateau reducing learning rate to 0.0005000000237487257.\n",
      "Epoch 14/50\n",
      " - 23s - loss: 0.0437 - acc: 0.9870 - val_loss: 0.0182 - val_acc: 0.9950\n",
      "Epoch 15/50\n",
      " - 23s - loss: 0.0449 - acc: 0.9874 - val_loss: 0.0154 - val_acc: 0.9945\n",
      "Epoch 16/50\n",
      " - 24s - loss: 0.0415 - acc: 0.9880 - val_loss: 0.0209 - val_acc: 0.9938\n",
      "Epoch 17/50\n",
      " - 23s - loss: 0.0441 - acc: 0.9875 - val_loss: 0.0187 - val_acc: 0.9950\n",
      "Epoch 18/50\n",
      " - 23s - loss: 0.0437 - acc: 0.9884 - val_loss: 0.0194 - val_acc: 0.9943\n",
      "\n",
      "Epoch 00018: ReduceLROnPlateau reducing learning rate to 0.0002500000118743628.\n",
      "Epoch 19/50\n",
      " - 23s - loss: 0.0382 - acc: 0.9896 - val_loss: 0.0156 - val_acc: 0.9948\n",
      "Epoch 20/50\n",
      " - 23s - loss: 0.0331 - acc: 0.9903 - val_loss: 0.0150 - val_acc: 0.9948\n",
      "Epoch 21/50\n",
      " - 24s - loss: 0.0345 - acc: 0.9904 - val_loss: 0.0193 - val_acc: 0.9950\n",
      "\n",
      "Epoch 00021: ReduceLROnPlateau reducing learning rate to 0.0001250000059371814.\n",
      "Epoch 22/50\n",
      " - 24s - loss: 0.0349 - acc: 0.9907 - val_loss: 0.0148 - val_acc: 0.9955\n",
      "Epoch 23/50\n",
      " - 23s - loss: 0.0323 - acc: 0.9910 - val_loss: 0.0153 - val_acc: 0.9962\n",
      "Epoch 24/50\n",
      " - 26s - loss: 0.0315 - acc: 0.9912 - val_loss: 0.0154 - val_acc: 0.9960\n",
      "Epoch 25/50\n",
      " - 24s - loss: 0.0298 - acc: 0.9916 - val_loss: 0.0163 - val_acc: 0.9952\n",
      "Epoch 26/50\n",
      " - 23s - loss: 0.0324 - acc: 0.9908 - val_loss: 0.0140 - val_acc: 0.9957\n",
      "Epoch 27/50\n",
      " - 23s - loss: 0.0311 - acc: 0.9913 - val_loss: 0.0173 - val_acc: 0.9962\n",
      "\n",
      "Epoch 00027: ReduceLROnPlateau reducing learning rate to 6.25000029685907e-05.\n",
      "Epoch 28/50\n",
      " - 24s - loss: 0.0293 - acc: 0.9913 - val_loss: 0.0152 - val_acc: 0.9957\n",
      "Epoch 29/50\n",
      " - 27s - loss: 0.0295 - acc: 0.9916 - val_loss: 0.0155 - val_acc: 0.9952\n",
      "Epoch 30/50\n",
      " - 26s - loss: 0.0260 - acc: 0.9924 - val_loss: 0.0152 - val_acc: 0.9955\n",
      "\n",
      "Epoch 00030: ReduceLROnPlateau reducing learning rate to 3.125000148429535e-05.\n",
      "Epoch 31/50\n",
      " - 25s - loss: 0.0282 - acc: 0.9919 - val_loss: 0.0151 - val_acc: 0.9955\n",
      "Epoch 32/50\n",
      " - 25s - loss: 0.0272 - acc: 0.9926 - val_loss: 0.0154 - val_acc: 0.9952\n",
      "Epoch 33/50\n",
      " - 24s - loss: 0.0274 - acc: 0.9925 - val_loss: 0.0171 - val_acc: 0.9955\n",
      "\n",
      "Epoch 00033: ReduceLROnPlateau reducing learning rate to 1.5625000742147677e-05.\n",
      "Epoch 34/50\n",
      " - 24s - loss: 0.0288 - acc: 0.9916 - val_loss: 0.0152 - val_acc: 0.9952\n",
      "Epoch 35/50\n",
      " - 23s - loss: 0.0281 - acc: 0.9924 - val_loss: 0.0158 - val_acc: 0.9955\n",
      "Epoch 36/50\n",
      " - 24s - loss: 0.0275 - acc: 0.9920 - val_loss: 0.0162 - val_acc: 0.9955\n",
      "\n",
      "Epoch 00036: ReduceLROnPlateau reducing learning rate to 1e-05.\n",
      "Epoch 37/50\n",
      " - 24s - loss: 0.0271 - acc: 0.9920 - val_loss: 0.0157 - val_acc: 0.9955\n",
      "Epoch 38/50\n",
      " - 23s - loss: 0.0289 - acc: 0.9916 - val_loss: 0.0157 - val_acc: 0.9957\n",
      "Epoch 39/50\n",
      " - 23s - loss: 0.0255 - acc: 0.9927 - val_loss: 0.0163 - val_acc: 0.9957\n",
      "Epoch 40/50\n",
      " - 23s - loss: 0.0273 - acc: 0.9922 - val_loss: 0.0156 - val_acc: 0.9952\n",
      "Epoch 41/50\n",
      " - 24s - loss: 0.0282 - acc: 0.9918 - val_loss: 0.0162 - val_acc: 0.9957\n",
      "Epoch 42/50\n",
      " - 24s - loss: 0.0284 - acc: 0.9921 - val_loss: 0.0157 - val_acc: 0.9957\n",
      "Epoch 43/50\n",
      " - 24s - loss: 0.0284 - acc: 0.9921 - val_loss: 0.0156 - val_acc: 0.9957\n",
      "Epoch 44/50\n",
      " - 24s - loss: 0.0278 - acc: 0.9921 - val_loss: 0.0157 - val_acc: 0.9957\n",
      "Epoch 45/50\n",
      " - 24s - loss: 0.0261 - acc: 0.9923 - val_loss: 0.0155 - val_acc: 0.9957\n",
      "Epoch 46/50\n",
      " - 25s - loss: 0.0281 - acc: 0.9919 - val_loss: 0.0156 - val_acc: 0.9957\n",
      "Epoch 47/50\n",
      " - 25s - loss: 0.0273 - acc: 0.9921 - val_loss: 0.0162 - val_acc: 0.9960\n",
      "Epoch 48/50\n",
      " - 24s - loss: 0.0274 - acc: 0.9919 - val_loss: 0.0157 - val_acc: 0.9960\n",
      "Epoch 49/50\n",
      " - 24s - loss: 0.0271 - acc: 0.9922 - val_loss: 0.0153 - val_acc: 0.9955\n",
      "Epoch 50/50\n",
      " - 25s - loss: 0.0262 - acc: 0.9922 - val_loss: 0.0154 - val_acc: 0.9955\n"
     ]
    }
   ],
   "source": [
    "# Fit the model\n",
    "history = model.fit_generator(datagen.flow(X_train,Y_train, batch_size=batch_size),\n",
    "                              epochs = epochs, validation_data = (X_val,Y_val),\n",
    "                              verbose = 2, steps_per_epoch=X_train.shape[0] // batch_size\n",
    "                              , callbacks=[learning_rate_reduction])"
   ]
  },
  {
   "cell_type": "code",
   "execution_count": 59,
   "metadata": {},
   "outputs": [
    {
     "name": "stdout",
     "output_type": "stream",
     "text": [
      "Epoch 1/50\n",
      " - 25s - loss: 0.0318 - acc: 0.9911 - val_loss: 0.0237 - val_acc: 0.9936\n",
      "Epoch 2/50\n",
      " - 26s - loss: 0.0305 - acc: 0.9907 - val_loss: 0.0204 - val_acc: 0.9955\n",
      "Epoch 3/50\n",
      " - 25s - loss: 0.0303 - acc: 0.9913 - val_loss: 0.0209 - val_acc: 0.9945\n",
      "Epoch 4/50\n",
      " - 25s - loss: 0.0297 - acc: 0.9911 - val_loss: 0.0223 - val_acc: 0.9957\n",
      "Epoch 5/50\n",
      " - 25s - loss: 0.0331 - acc: 0.9910 - val_loss: 0.0223 - val_acc: 0.9943\n",
      "Epoch 6/50\n",
      " - 25s - loss: 0.0316 - acc: 0.9909 - val_loss: 0.0248 - val_acc: 0.9929\n",
      "Epoch 7/50\n",
      " - 27s - loss: 0.0298 - acc: 0.9915 - val_loss: 0.0228 - val_acc: 0.9957\n",
      "Epoch 8/50\n",
      " - 27s - loss: 0.0307 - acc: 0.9912 - val_loss: 0.0207 - val_acc: 0.9948\n",
      "\n",
      "Epoch 00008: ReduceLROnPlateau reducing learning rate to 6.25000029685907e-05.\n",
      "Epoch 9/50\n",
      " - 26s - loss: 0.0290 - acc: 0.9913 - val_loss: 0.0220 - val_acc: 0.9948\n",
      "Epoch 10/50\n",
      " - 28s - loss: 0.0283 - acc: 0.9919 - val_loss: 0.0232 - val_acc: 0.9945\n",
      "Epoch 11/50\n",
      " - 25s - loss: 0.0286 - acc: 0.9920 - val_loss: 0.0208 - val_acc: 0.9950\n",
      "\n",
      "Epoch 00011: ReduceLROnPlateau reducing learning rate to 3.125000148429535e-05.\n",
      "Epoch 12/50\n",
      " - 27s - loss: 0.0270 - acc: 0.9918 - val_loss: 0.0203 - val_acc: 0.9950\n",
      "Epoch 13/50\n",
      " - 26s - loss: 0.0267 - acc: 0.9928 - val_loss: 0.0208 - val_acc: 0.9955\n",
      "Epoch 14/50\n",
      " - 27s - loss: 0.0278 - acc: 0.9919 - val_loss: 0.0199 - val_acc: 0.9952\n",
      "\n",
      "Epoch 00014: ReduceLROnPlateau reducing learning rate to 1.5625000742147677e-05.\n",
      "Epoch 15/50\n",
      " - 26s - loss: 0.0284 - acc: 0.9918 - val_loss: 0.0209 - val_acc: 0.9952\n",
      "Epoch 16/50\n",
      " - 26s - loss: 0.0277 - acc: 0.9922 - val_loss: 0.0202 - val_acc: 0.9955\n",
      "Epoch 17/50\n",
      " - 26s - loss: 0.0295 - acc: 0.9918 - val_loss: 0.0199 - val_acc: 0.9952\n",
      "\n",
      "Epoch 00017: ReduceLROnPlateau reducing learning rate to 1e-05.\n",
      "Epoch 18/50\n",
      " - 27s - loss: 0.0271 - acc: 0.9917 - val_loss: 0.0199 - val_acc: 0.9952\n",
      "Epoch 19/50\n",
      " - 28s - loss: 0.0283 - acc: 0.9924 - val_loss: 0.0205 - val_acc: 0.9952\n",
      "Epoch 20/50\n",
      " - 29s - loss: 0.0281 - acc: 0.9921 - val_loss: 0.0200 - val_acc: 0.9955\n",
      "Epoch 21/50\n",
      " - 26s - loss: 0.0256 - acc: 0.9924 - val_loss: 0.0198 - val_acc: 0.9952\n",
      "Epoch 22/50\n",
      " - 26s - loss: 0.0295 - acc: 0.9918 - val_loss: 0.0207 - val_acc: 0.9948\n",
      "Epoch 23/50\n",
      " - 25s - loss: 0.0293 - acc: 0.9920 - val_loss: 0.0202 - val_acc: 0.9955\n",
      "Epoch 24/50\n",
      " - 25s - loss: 0.0281 - acc: 0.9919 - val_loss: 0.0204 - val_acc: 0.9952\n",
      "Epoch 25/50\n",
      " - 27s - loss: 0.0276 - acc: 0.9923 - val_loss: 0.0193 - val_acc: 0.9950\n",
      "Epoch 26/50\n",
      " - 28s - loss: 0.0264 - acc: 0.9924 - val_loss: 0.0207 - val_acc: 0.9950\n",
      "Epoch 27/50\n",
      " - 27s - loss: 0.0252 - acc: 0.9923 - val_loss: 0.0204 - val_acc: 0.9955\n",
      "Epoch 28/50\n",
      " - 26s - loss: 0.0243 - acc: 0.9932 - val_loss: 0.0217 - val_acc: 0.9948\n",
      "Epoch 29/50\n",
      " - 25s - loss: 0.0275 - acc: 0.9918 - val_loss: 0.0207 - val_acc: 0.9950\n",
      "Epoch 30/50\n",
      " - 25s - loss: 0.0267 - acc: 0.9925 - val_loss: 0.0215 - val_acc: 0.9952\n",
      "Epoch 31/50\n",
      " - 25s - loss: 0.0290 - acc: 0.9921 - val_loss: 0.0208 - val_acc: 0.9952\n",
      "Epoch 32/50\n",
      " - 25s - loss: 0.0276 - acc: 0.9924 - val_loss: 0.0206 - val_acc: 0.9952\n",
      "Epoch 33/50\n",
      " - 26s - loss: 0.0268 - acc: 0.9924 - val_loss: 0.0203 - val_acc: 0.9952\n",
      "Epoch 34/50\n",
      " - 25s - loss: 0.0274 - acc: 0.9929 - val_loss: 0.0220 - val_acc: 0.9950\n",
      "Epoch 35/50\n",
      " - 24s - loss: 0.0267 - acc: 0.9919 - val_loss: 0.0195 - val_acc: 0.9955\n",
      "Epoch 36/50\n",
      " - 27s - loss: 0.0277 - acc: 0.9921 - val_loss: 0.0197 - val_acc: 0.9955\n",
      "Epoch 37/50\n",
      " - 27s - loss: 0.0284 - acc: 0.9925 - val_loss: 0.0201 - val_acc: 0.9948\n",
      "Epoch 38/50\n",
      " - 28s - loss: 0.0265 - acc: 0.9927 - val_loss: 0.0210 - val_acc: 0.9950\n",
      "Epoch 39/50\n",
      " - 26s - loss: 0.0275 - acc: 0.9925 - val_loss: 0.0195 - val_acc: 0.9952\n",
      "Epoch 40/50\n",
      " - 24s - loss: 0.0267 - acc: 0.9922 - val_loss: 0.0202 - val_acc: 0.9955\n",
      "Epoch 41/50\n",
      " - 25s - loss: 0.0247 - acc: 0.9929 - val_loss: 0.0214 - val_acc: 0.9948\n",
      "Epoch 42/50\n",
      " - 24s - loss: 0.0266 - acc: 0.9926 - val_loss: 0.0203 - val_acc: 0.9957\n",
      "Epoch 43/50\n",
      " - 25s - loss: 0.0279 - acc: 0.9921 - val_loss: 0.0206 - val_acc: 0.9950\n",
      "Epoch 44/50\n",
      " - 24s - loss: 0.0258 - acc: 0.9925 - val_loss: 0.0209 - val_acc: 0.9952\n",
      "Epoch 45/50\n",
      " - 27s - loss: 0.0264 - acc: 0.9927 - val_loss: 0.0219 - val_acc: 0.9945\n",
      "Epoch 46/50\n",
      " - 25s - loss: 0.0284 - acc: 0.9921 - val_loss: 0.0207 - val_acc: 0.9950\n",
      "Epoch 47/50\n",
      " - 24s - loss: 0.0261 - acc: 0.9927 - val_loss: 0.0213 - val_acc: 0.9943\n",
      "Epoch 48/50\n",
      " - 25s - loss: 0.0279 - acc: 0.9920 - val_loss: 0.0202 - val_acc: 0.9948\n",
      "Epoch 49/50\n",
      " - 24s - loss: 0.0272 - acc: 0.9927 - val_loss: 0.0213 - val_acc: 0.9948\n",
      "Epoch 50/50\n",
      " - 24s - loss: 0.0281 - acc: 0.9918 - val_loss: 0.0200 - val_acc: 0.9948\n"
     ]
    }
   ],
   "source": [
    "# Fit the model\n",
    "history = model.fit_generator(datagen.flow(X_train,Y_train, batch_size=batch_size),\n",
    "                              epochs = epochs, validation_data = (X_val,Y_val),\n",
    "                              verbose = 2, steps_per_epoch=X_train.shape[0] // batch_size\n",
    "                              , callbacks=[learning_rate_reduction])"
   ]
  },
  {
   "cell_type": "markdown",
   "metadata": {},
   "source": [
    "## 4. Evaluate the model\n",
    "### 4.1 Training and validation curves"
   ]
  },
  {
   "cell_type": "code",
   "execution_count": 18,
   "metadata": {},
   "outputs": [
    {
     "data": {
      "image/png": "[encoded data removed]",
      "text/plain": [
       "<matplotlib.figure.Figure at 0x7fc2fc2f8128>"
      ]
     },
     "metadata": {},
     "output_type": "display_data"
    }
   ],
   "source": [
    "# Plot the loss and accuracy curves for training and validation \n",
    "fig, ax = plt.subplots(2,1)\n",
    "ax[0].plot(history.history['loss'], color='b', label=\"Training loss\")\n",
    "ax[0].plot(history.history['val_loss'], color='r', label=\"validation loss\",axes =ax[0])\n",
    "legend = ax[0].legend(loc='best', shadow=True)\n",
    "\n",
    "ax[1].plot(history.history['acc'], color='b', label=\"Training accuracy\")\n",
    "ax[1].plot(history.history['val_acc'], color='r',label=\"Validation accuracy\")\n",
    "legend = ax[1].legend(loc='best', shadow=True)"
   ]
  },
  {
   "cell_type": "markdown",
   "metadata": {},
   "source": [
    "### 4.2 Confusion matrix\n",
    "#### Confusion matrix can be very helpfull to see your model drawbacks"
   ]
  },
  {
   "cell_type": "code",
   "execution_count": 19,
   "metadata": {},
   "outputs": [
    {
     "data": {
      "image/png": "[encoded data removed]",
      "text/plain": [
       "<matplotlib.figure.Figure at 0x7fc2fc63ef60>"
      ]
     },
     "metadata": {},
     "output_type": "display_data"
    }
   ],
   "source": [
    "# Look at confusion matrix \n",
    "\n",
    "def plot_confusion_matrix(cm, classes,\n",
    "                          normalize=False,\n",
    "                          title='Confusion matrix',\n",
    "                          cmap=plt.cm.Blues):\n",
    "    \"\"\"\n",
    "    This function prints and plots the confusion matrix.\n",
    "    Normalization can be applied by setting `normalize=True`.\n",
    "    \"\"\"\n",
    "    plt.imshow(cm, interpolation='nearest', cmap=cmap)\n",
    "    plt.title(title)\n",
    "    plt.colorbar()\n",
    "    tick_marks = np.arange(len(classes))\n",
    "    plt.xticks(tick_marks, classes, rotation=45)\n",
    "    plt.yticks(tick_marks, classes)\n",
    "\n",
    "    if normalize:\n",
    "        cm = cm.astype('float') / cm.sum(axis=1)[:, np.newaxis]\n",
    "\n",
    "    thresh = cm.max() / 2.\n",
    "    for i, j in itertools.product(range(cm.shape[0]), range(cm.shape[1])):\n",
    "        plt.text(j, i, cm[i, j],\n",
    "                 horizontalalignment=\"center\",\n",
    "                 color=\"white\" if cm[i, j] > thresh else \"black\")\n",
    "\n",
    "    plt.tight_layout()\n",
    "    plt.ylabel('True label')\n",
    "    plt.xlabel('Predicted label')\n",
    "\n",
    "# Predict the values from the validation dataset\n",
    "Y_pred = model.predict(X_val)\n",
    "# Convert predictions classes to one hot vectors \n",
    "Y_pred_classes = np.argmax(Y_pred,axis = 1) \n",
    "# Convert validation observations to one hot vectors\n",
    "Y_true = np.argmax(Y_val,axis = 1) \n",
    "# compute the confusion matrix\n",
    "confusion_mtx = confusion_matrix(Y_true, Y_pred_classes) \n",
    "# plot the confusion matrix\n",
    "plot_confusion_matrix(confusion_mtx, classes = range(10)) "
   ]
  },
  {
   "cell_type": "markdown",
   "metadata": {},
   "source": [
    "#### 可视化错误分类\n",
    "#### Let's investigate for errors.\n",
    "\n",
    "#### I want to see the most important errors . For that purpose i need to get the difference between the probabilities of real value and the predicted ones in the results"
   ]
  },
  {
   "cell_type": "code",
   "execution_count": 23,
   "metadata": {},
   "outputs": [
    {
     "data": {
      "image/png": "[encoded data removed]",
      "text/plain": [
       "<matplotlib.figure.Figure at 0x7fc2fcece780>"
      ]
     },
     "metadata": {},
     "output_type": "display_data"
    }
   ],
   "source": [
    "# Display some error results \n",
    "\n",
    "# Errors are difference between predicted labels and true labels\n",
    "errors = (Y_pred_classes - Y_true != 0)\n",
    "\n",
    "Y_pred_classes_errors = Y_pred_classes[errors]\n",
    "Y_pred_errors = Y_pred[errors]\n",
    "Y_true_errors = Y_true[errors]\n",
    "X_val_errors = X_val[errors]\n",
    "\n",
    "def display_errors(errors_index,img_errors,pred_errors, obs_errors):\n",
    "    \"\"\" This function shows 6 images with their predicted and real labels\"\"\"\n",
    "    n = 0\n",
    "    nrows = 2\n",
    "    ncols = 3\n",
    "    fig, ax = plt.subplots(nrows,ncols,sharex=True,sharey=True)\n",
    "    for row in range(nrows):\n",
    "        for col in range(ncols):\n",
    "            error = errors_index[n]\n",
    "            ax[row,col].imshow((img_errors[error]).reshape((28,28)))\n",
    "            ax[row,col].set_title(\"Predicted label :{}\\nTrue label :{}\".format(pred_errors[error],obs_errors[error]))\n",
    "            n += 1\n",
    "\n",
    "# Probabilities of the wrong predicted numbers\n",
    "Y_pred_errors_prob = np.max(Y_pred_errors,axis = 1)\n",
    "\n",
    "# Predicted probabilities of the true values in the error set\n",
    "true_prob_errors = np.diagonal(np.take(Y_pred_errors, Y_true_errors, axis=1))\n",
    "\n",
    "# Difference between the probability of the predicted label and the true label\n",
    "delta_pred_true_errors = Y_pred_errors_prob - true_prob_errors\n",
    "\n",
    "# Sorted list of the delta prob errors\n",
    "sorted_dela_errors = np.argsort(delta_pred_true_errors)\n",
    "\n",
    "# Top 6 errors \n",
    "most_important_errors = sorted_dela_errors[-6:]\n",
    "\n",
    "# Show the top 6 errors\n",
    "display_errors(most_important_errors, X_val_errors, Y_pred_classes_errors, Y_true_errors)"
   ]
  },
  {
   "cell_type": "code",
   "execution_count": 21,
   "metadata": {},
   "outputs": [],
   "source": [
    "# predict results\n",
    "results = model.predict(test)\n",
    "\n",
    "# select the indix with the maximum probability\n",
    "results = np.argmax(results,axis = 1)\n",
    "\n",
    "results = pd.Series(results,name=\"Label\")"
   ]
  },
  {
   "cell_type": "code",
   "execution_count": 22,
   "metadata": {},
   "outputs": [],
   "source": [
    "submission = pd.concat([pd.Series(range(1,28001),name = \"ImageId\"),results],axis = 1)\n",
    "\n",
    "submission.to_csv(\"digit.csv\",index=False)"
   ]
  }
 ],
 "metadata": {
  "kernelspec": {
   "display_name": "Python 3",
   "language": "python",
   "name": "python3"
  },
  "language_info": {
   "codemirror_mode": {
    "name": "ipython",
    "version": 3
   },
   "file_extension": ".py",
   "mimetype": "text/x-python",
   "name": "python",
   "nbconvert_exporter": "python",
   "pygments_lexer": "ipython3",
   "version": "3.6.4"
  }
 },
 "nbformat": 4,
 "nbformat_minor": 2
}
